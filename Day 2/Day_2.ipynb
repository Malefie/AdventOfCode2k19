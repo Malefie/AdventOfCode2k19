{
  "nbformat": 4,
  "nbformat_minor": 0,
  "metadata": {
    "colab": {
      "name": "Day_2.ipynb",
      "provenance": [],
      "include_colab_link": true
    },
    "kernelspec": {
      "name": "python3",
      "display_name": "Python 3"
    }
  },
  "cells": [
    {
      "cell_type": "markdown",
      "metadata": {
        "id": "view-in-github",
        "colab_type": "text"
      },
      "source": [
        "<a href=\"https://colab.research.google.com/github/Malefie/AdventOfCode2k19/blob/master/Day%202/Day_2.ipynb\" target=\"_parent\"><img src=\"https://colab.research.google.com/assets/colab-badge.svg\" alt=\"Open In Colab\"/></a>"
      ]
    },
    {
      "cell_type": "markdown",
      "metadata": {
        "id": "pxdGMP5QeEwk",
        "colab_type": "text"
      },
      "source": [
        "# Day 2_1"
      ]
    },
    {
      "cell_type": "code",
      "metadata": {
        "id": "2ZfGvgPceIqS",
        "colab_type": "code",
        "colab": {
          "base_uri": "https://localhost:8080/",
          "height": 67
        },
        "outputId": "e169aa8b-3ab5-4cef-d2d0-0c0942d38a4d"
      },
      "source": [
        "# Fetch a single <1MB file using the raw GitHub URL.\n",
        "!curl --remote-name \\\n",
        "     -H 'Accept: application/vnd.github.v3.raw' \\\n",
        "     --location https://raw.githubusercontent.com/Malefie/AdventOfCode2k19/master/Day%202/input_day2.txt"
      ],
      "execution_count": 28,
      "outputs": [
        {
          "output_type": "stream",
          "text": [
            "  % Total    % Received % Xferd  Average Speed   Time    Time     Time  Current\n",
            "                                 Dload  Upload   Total   Spent    Left  Speed\n",
            "\r  0     0    0     0    0     0      0      0 --:--:-- --:--:-- --:--:--     0\r100   389  100   389    0     0   2149      0 --:--:-- --:--:-- --:--:--  2149\n"
          ],
          "name": "stdout"
        }
      ]
    },
    {
      "cell_type": "code",
      "metadata": {
        "id": "T74VFmqXxHwC",
        "colab_type": "code",
        "colab": {}
      },
      "source": [
        "with open(\"input_day2.txt\", \"r\") as file:\n",
        "  data = file.read()"
      ],
      "execution_count": 0,
      "outputs": []
    },
    {
      "cell_type": "code",
      "metadata": {
        "id": "8n67Fwu4yNFA",
        "colab_type": "code",
        "colab": {}
      },
      "source": [
        "data = [int(n) for n in data.split(',')]"
      ],
      "execution_count": 0,
      "outputs": []
    },
    {
      "cell_type": "code",
      "metadata": {
        "id": "Jd1lR2uMxhiA",
        "colab_type": "code",
        "colab": {}
      },
      "source": [
        "\n",
        "data[1] =12\n",
        "data[2] = 2"
      ],
      "execution_count": 0,
      "outputs": []
    },
    {
      "cell_type": "code",
      "metadata": {
        "id": "TexyLwmyxqRn",
        "colab_type": "code",
        "colab": {}
      },
      "source": [
        "def program_alarm(data):\n",
        "  ''' Program returns value at zero index'''\n",
        "  for i in range(0,len(data), 4):\n",
        "    if data[i] == 1:\n",
        "      data[data[i+3]] = data[data[i+1]] + data[data[i+2]]\n",
        "    elif data[i] == 2:\n",
        "      data[data[i+3]] = data[data[i+1]] * data[data[i+2]]\n",
        "    elif data[i] == 99:\n",
        "      return data[0]\n",
        "      \n"
      ],
      "execution_count": 0,
      "outputs": []
    },
    {
      "cell_type": "code",
      "metadata": {
        "id": "6doAAUDBx1Jt",
        "colab_type": "code",
        "colab": {
          "base_uri": "https://localhost:8080/",
          "height": 34
        },
        "outputId": "ee76536f-1430-4dff-b826-c76a6040c978"
      },
      "source": [
        "print (program_alarm(data))"
      ],
      "execution_count": 46,
      "outputs": [
        {
          "output_type": "stream",
          "text": [
            "5866663\n"
          ],
          "name": "stdout"
        }
      ]
    },
    {
      "cell_type": "code",
      "metadata": {
        "id": "QMj96te0zKPF",
        "colab_type": "code",
        "colab": {}
      },
      "source": [
        ""
      ],
      "execution_count": 0,
      "outputs": []
    }
  ]
}