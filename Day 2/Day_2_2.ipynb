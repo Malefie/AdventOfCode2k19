{
  "nbformat": 4,
  "nbformat_minor": 0,
  "metadata": {
    "colab": {
      "name": "Day_2.ipynb",
      "provenance": [],
      "include_colab_link": true
    },
    "kernelspec": {
      "name": "python3",
      "display_name": "Python 3"
    }
  },
  "cells": [
    {
      "cell_type": "markdown",
      "metadata": {
        "id": "view-in-github",
        "colab_type": "text"
      },
      "source": [
        "<a href=\"https://colab.research.google.com/github/Malefie/AdventOfCode2k19/blob/master/Day%202/Day_2_2.ipynb\" target=\"_parent\"><img src=\"https://colab.research.google.com/assets/colab-badge.svg\" alt=\"Open In Colab\"/></a>"
      ]
    },
    {
      "cell_type": "markdown",
      "metadata": {
        "id": "pxdGMP5QeEwk",
        "colab_type": "text"
      },
      "source": [
        "# Day 2_2\n",
        "\n",
        "\n",
        "*   Note: To rerun the program, you will need to reassign data since it gets modified\n",
        "\n"
      ]
    },
    {
      "cell_type": "code",
      "metadata": {
        "id": "2ZfGvgPceIqS",
        "colab_type": "code",
        "colab": {
          "base_uri": "https://localhost:8080/",
          "height": 67
        },
        "outputId": "2b71a713-6567-424f-da62-0b3941e7018c"
      },
      "source": [
        "# Fetch a single <1MB file using the raw GitHub URL.\n",
        "!curl --remote-name \\\n",
        "     -H 'Accept: application/vnd.github.v3.raw' \\\n",
        "     --location https://raw.githubusercontent.com/Malefie/AdventOfCode2k19/master/Day%202/input_day2.txt"
      ],
      "execution_count": 3,
      "outputs": [
        {
          "output_type": "stream",
          "text": [
            "  % Total    % Received % Xferd  Average Speed   Time    Time     Time  Current\n",
            "                                 Dload  Upload   Total   Spent    Left  Speed\n",
            "\r  0     0    0     0    0     0      0      0 --:--:-- --:--:-- --:--:--     0\r100   389  100   389    0     0   2005      0 --:--:-- --:--:-- --:--:--  2015\n"
          ],
          "name": "stdout"
        }
      ]
    },
    {
      "cell_type": "code",
      "metadata": {
        "id": "T74VFmqXxHwC",
        "colab_type": "code",
        "colab": {}
      },
      "source": [
        "with open(\"input_day2.txt\", \"r\") as file:\n",
        "  data = file.read()"
      ],
      "execution_count": 0,
      "outputs": []
    },
    {
      "cell_type": "code",
      "metadata": {
        "id": "TexyLwmyxqRn",
        "colab_type": "code",
        "colab": {}
      },
      "source": [
        "def program_alarm(d):\n",
        "  ''' Program returns value at zero index'''\n",
        "  for i in range(0,len(d), 4):\n",
        "    if d[i] == 1:\n",
        "      d[d[i+3]] = d[d[i+1]] + d[d[i+2]]\n",
        "      \n",
        "\n",
        "    elif d[i] == 2:\n",
        "      d[d[i+3]] = d[d[i+1]] * d[d[i+2]]\n",
        "      \n",
        "    elif d[i] == 99:\n",
        "      return d\n",
        "      \n"
      ],
      "execution_count": 0,
      "outputs": []
    },
    {
      "cell_type": "code",
      "metadata": {
        "id": "iKNPZv-Bo-RI",
        "colab_type": "code",
        "colab": {}
      },
      "source": [
        "def match_output(data):\n",
        "\n",
        "  for n in range(100):\n",
        "    for v in range(100):\n",
        "      data_1 = []\n",
        "      data_1 = [int(n) for n in data.split(',')]\n",
        "      data_1[1] = n\n",
        "      data_1[2] = v\n",
        "      output = program_alarm(data_1)\n",
        "      if output[0] == 19690720:\n",
        "        #print (output)\n",
        "        return 100 * output[1] + output[2]"
      ],
      "execution_count": 0,
      "outputs": []
    },
    {
      "cell_type": "code",
      "metadata": {
        "id": "a5l3IIk3otWa",
        "colab_type": "code",
        "colab": {
          "base_uri": "https://localhost:8080/",
          "height": 34
        },
        "outputId": "683eb743-6b11-42df-fd5b-f3917e1b2515"
      },
      "source": [
        "result = match_output(data)\n",
        "print (result)"
      ],
      "execution_count": 44,
      "outputs": [
        {
          "output_type": "stream",
          "text": [
            "4259\n"
          ],
          "name": "stdout"
        }
      ]
    },
    {
      "cell_type": "code",
      "metadata": {
        "id": "Y4G6E27boW5q",
        "colab_type": "code",
        "colab": {}
      },
      "source": [
        ""
      ],
      "execution_count": 0,
      "outputs": []
    }
  ]
}