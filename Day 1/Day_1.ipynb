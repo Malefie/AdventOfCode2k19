{
  "nbformat": 4,
  "nbformat_minor": 0,
  "metadata": {
    "colab": {
      "name": "Day_1.ipynb",
      "provenance": [],
      "include_colab_link": true
    },
    "kernelspec": {
      "name": "python3",
      "display_name": "Python 3"
    }
  },
  "cells": [
    {
      "cell_type": "markdown",
      "metadata": {
        "id": "view-in-github",
        "colab_type": "text"
      },
      "source": [
        "<a href=\"https://colab.research.google.com/github/Malefie/AdventOfCode2k19/blob/master/Day%201/Day_1.ipynb\" target=\"_parent\"><img src=\"https://colab.research.google.com/assets/colab-badge.svg\" alt=\"Open In Colab\"/></a>"
      ]
    },
    {
      "cell_type": "markdown",
      "metadata": {
        "id": "f488jO97T44V",
        "colab_type": "text"
      },
      "source": [
        "#Day1_1"
      ]
    },
    {
      "cell_type": "code",
      "metadata": {
        "id": "OlSk1C1xCfMq",
        "colab_type": "code",
        "colab": {
          "base_uri": "https://localhost:8080/",
          "height": 67
        },
        "outputId": "0d9be721-cdeb-49b9-bc94-ed880f7b1cd1"
      },
      "source": [
        "# Fetch a single <1MB file using the raw GitHub URL.\n",
        "!curl --remote-name \\\n",
        "     -H 'Accept: application/vnd.github.v3.raw' \\\n",
        "     --location https://raw.githubusercontent.com/Malefie/AdventOfCode2k19/master/Day%201/Input.txt"
      ],
      "execution_count": 1,
      "outputs": [
        {
          "output_type": "stream",
          "text": [
            "  % Total    % Received % Xferd  Average Speed   Time    Time     Time  Current\n",
            "                                 Dload  Upload   Total   Spent    Left  Speed\n",
            "\r  0     0    0     0    0     0      0      0 --:--:-- --:--:-- --:--:--     0\r100   655  100   655    0     0   2673      0 --:--:-- --:--:-- --:--:--  2673\n"
          ],
          "name": "stdout"
        }
      ]
    },
    {
      "cell_type": "code",
      "metadata": {
        "id": "IACK0k16CqY6",
        "colab_type": "code",
        "colab": {}
      },
      "source": [
        "import pandas as pd\n",
        "from pandas import DataFrame as df"
      ],
      "execution_count": 0,
      "outputs": []
    },
    {
      "cell_type": "code",
      "metadata": {
        "id": "M-PjQeXbEy4A",
        "colab_type": "code",
        "colab": {}
      },
      "source": [
        "import pandas as pd\n",
        "\n",
        "data = pd.read_csv('Input.txt', sep=\"\\n\", header = None)\n"
      ],
      "execution_count": 0,
      "outputs": []
    },
    {
      "cell_type": "code",
      "metadata": {
        "id": "kkrGGH5uFf4Y",
        "colab_type": "code",
        "colab": {}
      },
      "source": [
        "data = data.rename(columns= {0:\"Mass\"})"
      ],
      "execution_count": 0,
      "outputs": []
    },
    {
      "cell_type": "code",
      "metadata": {
        "id": "KIX3I92-Fwq0",
        "colab_type": "code",
        "colab": {}
      },
      "source": [
        "data[\"Fuel\"] = data[\"Mass\"].apply(lambda x: x//3 - 2)"
      ],
      "execution_count": 0,
      "outputs": []
    },
    {
      "cell_type": "code",
      "metadata": {
        "id": "p6NeakF2GkNl",
        "colab_type": "code",
        "colab": {
          "base_uri": "https://localhost:8080/",
          "height": 34
        },
        "outputId": "d1b646de-2fd2-476a-f953-e0a2d1d270ae"
      },
      "source": [
        "Total_Fuel = sum(data[\"Fuel\"])\n",
        "print (Total_Fuel)"
      ],
      "execution_count": 16,
      "outputs": [
        {
          "output_type": "stream",
          "text": [
            "3506577\n"
          ],
          "name": "stdout"
        }
      ]
    },
    {
      "cell_type": "markdown",
      "metadata": {
        "id": "aJ69qYovTyhE",
        "colab_type": "text"
      },
      "source": [
        "# Day 1_2"
      ]
    },
    {
      "cell_type": "code",
      "metadata": {
        "id": "ztUtg8IsWnzw",
        "colab_type": "code",
        "colab": {}
      },
      "source": [
        "def fuel_for_fuel(x):\n",
        "  ans = 0\n",
        "  while x >0:\n",
        "    ans += x\n",
        "    x = x//3 - 2\n",
        "  return ans"
      ],
      "execution_count": 0,
      "outputs": []
    },
    {
      "cell_type": "code",
      "metadata": {
        "id": "mCV504vsT1Kl",
        "colab_type": "code",
        "colab": {}
      },
      "source": [
        "data[\"Total_fuel_per_module\"] = data[\"Fuel\"].apply(lambda x : fuel_for_fuel(x) )"
      ],
      "execution_count": 0,
      "outputs": []
    },
    {
      "cell_type": "code",
      "metadata": {
        "id": "EWDn0HxfXWPd",
        "colab_type": "code",
        "colab": {
          "base_uri": "https://localhost:8080/",
          "height": 195
        },
        "outputId": "e5b2291b-cdc3-429c-cb14-9576e87ded9f"
      },
      "source": [
        "data.head()"
      ],
      "execution_count": 19,
      "outputs": [
        {
          "output_type": "execute_result",
          "data": {
            "text/html": [
              "<div>\n",
              "<style scoped>\n",
              "    .dataframe tbody tr th:only-of-type {\n",
              "        vertical-align: middle;\n",
              "    }\n",
              "\n",
              "    .dataframe tbody tr th {\n",
              "        vertical-align: top;\n",
              "    }\n",
              "\n",
              "    .dataframe thead th {\n",
              "        text-align: right;\n",
              "    }\n",
              "</style>\n",
              "<table border=\"1\" class=\"dataframe\">\n",
              "  <thead>\n",
              "    <tr style=\"text-align: right;\">\n",
              "      <th></th>\n",
              "      <th>Mass</th>\n",
              "      <th>Fuel</th>\n",
              "      <th>Total_fuel_per_module</th>\n",
              "    </tr>\n",
              "  </thead>\n",
              "  <tbody>\n",
              "    <tr>\n",
              "      <th>0</th>\n",
              "      <td>133260</td>\n",
              "      <td>44418</td>\n",
              "      <td>66597</td>\n",
              "    </tr>\n",
              "    <tr>\n",
              "      <th>1</th>\n",
              "      <td>119757</td>\n",
              "      <td>39917</td>\n",
              "      <td>59846</td>\n",
              "    </tr>\n",
              "    <tr>\n",
              "      <th>2</th>\n",
              "      <td>96870</td>\n",
              "      <td>32288</td>\n",
              "      <td>48401</td>\n",
              "    </tr>\n",
              "    <tr>\n",
              "      <th>3</th>\n",
              "      <td>121480</td>\n",
              "      <td>40491</td>\n",
              "      <td>60707</td>\n",
              "    </tr>\n",
              "    <tr>\n",
              "      <th>4</th>\n",
              "      <td>117382</td>\n",
              "      <td>39125</td>\n",
              "      <td>58658</td>\n",
              "    </tr>\n",
              "  </tbody>\n",
              "</table>\n",
              "</div>"
            ],
            "text/plain": [
              "     Mass   Fuel  Total_fuel_per_module\n",
              "0  133260  44418                  66597\n",
              "1  119757  39917                  59846\n",
              "2   96870  32288                  48401\n",
              "3  121480  40491                  60707\n",
              "4  117382  39125                  58658"
            ]
          },
          "metadata": {
            "tags": []
          },
          "execution_count": 19
        }
      ]
    },
    {
      "cell_type": "code",
      "metadata": {
        "id": "b8TG0zjnXYry",
        "colab_type": "code",
        "colab": {
          "base_uri": "https://localhost:8080/",
          "height": 34
        },
        "outputId": "b58c220a-0696-421a-c426-d4a00a345f68"
      },
      "source": [
        "Total_Fuel = sum(data[\"Total_fuel_per_module\"])\n",
        "print (Total_Fuel)"
      ],
      "execution_count": 20,
      "outputs": [
        {
          "output_type": "stream",
          "text": [
            "5256960\n"
          ],
          "name": "stdout"
        }
      ]
    },
    {
      "cell_type": "code",
      "metadata": {
        "id": "pFp-rhmKYURQ",
        "colab_type": "code",
        "colab": {}
      },
      "source": [
        ""
      ],
      "execution_count": 0,
      "outputs": []
    }
  ]
}